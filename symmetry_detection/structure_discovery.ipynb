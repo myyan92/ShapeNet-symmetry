{
 "cells": [
  {
   "cell_type": "code",
   "execution_count": 1,
   "metadata": {
    "collapsed": false
   },
   "outputs": [],
   "source": [
    "include(\"symmetrySpectral.jl\")\n",
    "type GraphNodeType\n",
    "    Tran::Array{Float64}\n",
    "    SymType::AbstractString\n",
    "end"
   ]
  },
  {
   "cell_type": "code",
   "execution_count": 2,
   "metadata": {
    "collapsed": false
   },
   "outputs": [],
   "source": [
    "type GraphEdge\n",
    "    v1::Tuple{Int32, Int32}\n",
    "    v2::Tuple{Int32, Int32}\n",
    "    dist::Float64\n",
    "end"
   ]
  },
  {
   "cell_type": "code",
   "execution_count": 3,
   "metadata": {
    "collapsed": false
   },
   "outputs": [
    {
     "data": {
      "text/plain": [
       "4-element Array{Any,1}:\n",
       " GraphNodeType(4x4 Array{Float64,2}:\n",
       " 1.0  0.0  0.0  1.0\n",
       " 0.0  1.0  0.0  0.0\n",
       " 0.0  0.0  1.0  0.0\n",
       " 0.0  0.0  0.0  1.0,\"C4v\")    \n",
       " GraphNodeType(4x4 Array{Float64,2}:\n",
       " 1.0  0.0  0.0  0.0\n",
       " 0.0  1.0  0.0  0.0\n",
       " 0.0  0.0  1.0  1.0\n",
       " 0.0  0.0  0.0  1.0,\"C4v\")    \n",
       " GraphNodeType(4x4 Array{Float64,2}:\n",
       " 1.0  0.0  0.0  -1.0\n",
       " 0.0  1.0  0.0   0.0\n",
       " 0.0  0.0  1.0   0.0\n",
       " 0.0  0.0  0.0   1.0,\"C4v\")\n",
       " GraphNodeType(4x4 Array{Float64,2}:\n",
       " 1.0  0.0  0.0   0.0\n",
       " 0.0  1.0  0.0   0.0\n",
       " 0.0  0.0  1.0  -1.0\n",
       " 0.0  0.0  0.0   1.0,\"C4v\")"
      ]
     },
     "execution_count": 3,
     "metadata": {},
     "output_type": "execute_result"
    }
   ],
   "source": [
    "conn=[]\n",
    "v = GraphNodeType(eye(4), \"C4v\")\n",
    "v.Tran[1,4] = 1\n",
    "push!(conn,v)\n",
    "v = GraphNodeType(eye(4), \"C4v\")\n",
    "v.Tran[3,4] = 1\n",
    "push!(conn,v)\n",
    "v = GraphNodeType(eye(4), \"C4v\")\n",
    "v.Tran[1,4] = -1\n",
    "push!(conn,v)\n",
    "v = GraphNodeType(eye(4), \"C4v\")\n",
    "v.Tran[3,4] = -1\n",
    "push!(conn,v)"
   ]
  },
  {
   "cell_type": "code",
   "execution_count": 4,
   "metadata": {
    "collapsed": false
   },
   "outputs": [],
   "source": [
    "SymGroup = []\n",
    "matrix = axis2matrix([0,1,0],4)\n",
    "reflect = axis2matrix([0,0,1],-1)\n",
    "temp = matrix\n",
    "for i = 1:4\n",
    "    push!(SymGroup, matrix)\n",
    "    matrix = matrix * temp\n",
    "    push!(SymGroup, reflect)\n",
    "    reflect = reflect * temp\n",
    "end\n",
    "for i = 1:size(SymGroup,1)\n",
    "    temp = SymGroup[i]\n",
    "    SymGroup[i] = eye(4)\n",
    "    SymGroup[i][1:3,1:3]=temp\n",
    "end"
   ]
  },
  {
   "cell_type": "code",
   "execution_count": 5,
   "metadata": {
    "collapsed": false
   },
   "outputs": [],
   "source": [
    "Transformations = Array{Array{Float64,2}}(12,8)\n",
    "count = 0\n",
    "for i = 1:4\n",
    "    for j = 1:4\n",
    "        if i!= j \n",
    "            count += 1\n",
    "            for k = 1:size(SymGroup,1)\n",
    "                Transformations[count,k]=conn[j].Tran*SymGroup[k]*inv(conn[i].Tran)\n",
    "            end\n",
    "        end\n",
    "    end\n",
    "end     "
   ]
  },
  {
   "cell_type": "code",
   "execution_count": 6,
   "metadata": {
    "collapsed": false
   },
   "outputs": [
    {
     "data": {
      "text/plain": [
       "52-element Array{Any,1}:\n",
       " GraphEdge((1,3),(4,3),6.280369834735101e-16)  \n",
       " GraphEdge((1,4),(4,4),3.1401849173675503e-16) \n",
       " GraphEdge((1,2),(5,2),0.0)                    \n",
       " GraphEdge((1,5),(5,5),9.42055475210265e-16)   \n",
       " GraphEdge((1,4),(9,4),4.440892098500626e-16)  \n",
       " GraphEdge((1,5),(9,5),1.3322676295501878e-15) \n",
       " GraphEdge((1,5),(10,5),9.42055475210265e-16)  \n",
       " GraphEdge((1,6),(10,6),6.280369834735101e-16) \n",
       " GraphEdge((1,4),(12,4),3.1401849173675503e-16)\n",
       " GraphEdge((1,7),(12,7),1.2560739669470201e-15)\n",
       " GraphEdge((2,3),(6,3),6.280369834735101e-16)  \n",
       " GraphEdge((2,4),(6,4),3.1401849173675503e-16) \n",
       " GraphEdge((2,3),(7,3),8.881784197001252e-16)  \n",
       " ⋮                                             \n",
       " GraphEdge((6,2),(11,2),0.0)                   \n",
       " GraphEdge((6,3),(11,3),8.881784197001252e-16) \n",
       " GraphEdge((7,3),(11,3),6.280369834735101e-16) \n",
       " GraphEdge((7,4),(11,4),3.1401849173675503e-16)\n",
       " GraphEdge((8,7),(10,7),1.2560739669470201e-15)\n",
       " GraphEdge((8,8),(10,8),9.42055475210265e-16)  \n",
       " GraphEdge((8,1),(12,1),3.1401849173675503e-16)\n",
       " GraphEdge((8,6),(12,6),6.280369834735101e-16) \n",
       " GraphEdge((9,2),(10,2),0.0)                   \n",
       " GraphEdge((9,5),(10,5),9.42055475210265e-16)  \n",
       " GraphEdge((9,3),(12,3),6.280369834735101e-16) \n",
       " GraphEdge((9,4),(12,4),3.1401849173675503e-16)"
      ]
     },
     "execution_count": 6,
     "metadata": {},
     "output_type": "execute_result"
    }
   ],
   "source": [
    "EdgeSet = []\n",
    "dist = zeros(8,8)\n",
    "for i = 1:size(Transformations,1)\n",
    "    for j = i+1 : size(Transformations,1)\n",
    "        for gi = 1:size(Transformations,2)\n",
    "            for gj = 1:size(Transformations,2)\n",
    "                dist[gi,gj] = norm(Transformations[i,gi][:]-Transformations[j,gj][:])\n",
    "            end\n",
    "        end\n",
    "        idx = find(dist.<0.3)\n",
    "        for k in idx\n",
    "            gj = mod(k-1, size(Transformations,2)) + 1\n",
    "            gi = div(k-1, size(Transformations,2)) + 1\n",
    "            push!(EdgeSet, GraphEdge((i,gi),(j,gj), dist[k]))\n",
    "        end\n",
    "    end\n",
    "end\n",
    "EdgeSet"
   ]
  },
  {
   "cell_type": "code",
   "execution_count": 15,
   "metadata": {
    "collapsed": false
   },
   "outputs": [
    {
     "data": {
      "text/plain": [
       "GetConnectedComponents (generic function with 1 method)"
      ]
     },
     "execution_count": 15,
     "metadata": {},
     "output_type": "execute_result"
    }
   ],
   "source": [
    "function FindRoot!(C, v)\n",
    "    if C[v] != v\n",
    "        C[v] = FindRoot!(C, C[v])\n",
    "    end\n",
    "    C[v]\n",
    "end\n",
    "\n",
    "function GetConnectedComponents(EdgeSet)\n",
    "    parent = Dict{Tuple{Int32, Int32}, Tuple{Int32, Int32}}()\n",
    "    for edge in EdgeSet\n",
    "        if !haskey(parent, edge.v1)\n",
    "            parent[edge.v1]=edge.v1\n",
    "        end\n",
    "        if !haskey(parent, edge.v2)\n",
    "            parent[edge.v2]=edge.v2\n",
    "        end\n",
    "        root1 = FindRoot!(parent, edge.v1)\n",
    "        root2 = FindRoot!(parent, edge.v2)\n",
    "        parent[root2] = root1\n",
    "    end\n",
    "    for vert in keys(parent)\n",
    "        parent[vert] = FindRoot!(parent, vert)\n",
    "    end\n",
    "\n",
    "    components = Dict{Tuple{Int32, Int32}, Array{Tuple{Int32, Int32}}}()\n",
    "    for k in keys(parent)\n",
    "        if !haskey(components, parent[k])\n",
    "            components[parent[k]] = []\n",
    "        end\n",
    "        push!(components[parent[k]], k)\n",
    "    end    \n",
    "    components\n",
    "end"
   ]
  },
  {
   "cell_type": "code",
   "execution_count": 18,
   "metadata": {
    "collapsed": false
   },
   "outputs": [
    {
     "name": "stdout",
     "output_type": "stream",
     "text": [
      "Dict{Tuple{Int32,Int32},Array{Tuple{Int32,Int32},N}}((1,6)=>[(10,6),(1,6)],(3,6)=>[(3,6),(4,6)],(2,3)=>[(2,3),(6,3),(11,3),(7,3)],(2,6)=>[(2,6),(7,6)],(5,6)=>[(9,6),(5,6)],(8,6)=>[(12,6),(8,6)],(1,7)=>[(12,7),(1,7)],(3,1)=>[(3,1),(4,1),(8,1),(12,1)],(4,7)=>[(4,7),(9,7)],(1,4)=>[(12,4),(4,4),(9,4),(1,4)],(6,8)=>[(7,8),(6,8)],(7,4)=>[(11,4),(7,4)],(3,3)=>[(3,3),(10,3)],(2,8)=>[(11,8),(2,8)],(6,2)=>[(6,2),(11,2)],(1,3)=>[(1,3),(4,3)],(8,7)=>[(8,7),(10,7)],(3,2)=>[(3,2),(12,2)],(2,4)=>[(2,4),(6,4)],(9,3)=>[(9,3),(12,3)],(1,2)=>[(1,2),(5,2)],(9,2)=>[(9,2),(10,2)],(3,7)=>[(5,7),(3,7)],(5,3)=>[(8,3),(5,3)],(1,5)=>[(10,5),(5,5),(1,5),(9,5)],(4,2)=>[(8,2),(4,2)],(3,8)=>[(5,8),(10,8),(8,8),(3,8)])"
     ]
    }
   ],
   "source": [
    "components = GetConnectedComponents(EdgeSet)\n",
    "showall(components)"
   ]
  },
  {
   "cell_type": "code",
   "execution_count": null,
   "metadata": {
    "collapsed": true
   },
   "outputs": [],
   "source": []
  }
 ],
 "metadata": {
  "kernelspec": {
   "display_name": "Julia 0.4.5",
   "language": "julia",
   "name": "julia-0.4"
  },
  "language_info": {
   "file_extension": ".jl",
   "mimetype": "application/julia",
   "name": "julia",
   "version": "0.4.5"
  }
 },
 "nbformat": 4,
 "nbformat_minor": 0
}
